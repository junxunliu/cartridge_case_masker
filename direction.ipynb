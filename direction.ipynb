{
 "cells": [
  {
   "cell_type": "code",
   "execution_count": 14,
   "id": "6ab5297f-17a4-454c-89a0-d065858dc7e7",
   "metadata": {},
   "outputs": [],
   "source": [
    "import cv2\n",
    "import numpy as np\n",
    "import matplotlib.pyplot as plt"
   ]
  },
  {
   "cell_type": "code",
   "execution_count": 15,
   "id": "374f53b2-3305-4d24-9901-e7456b877866",
   "metadata": {},
   "outputs": [],
   "source": [
    "# Load the mask image\n",
    "mask1 = cv2.imread('3.jpg', 0)  # Load as grayscale\n",
    "mask2 = cv2.imread('4.jpg', 0)  # Load as grayscale"
   ]
  },
  {
   "cell_type": "code",
   "execution_count": 53,
   "id": "31df5158-b52b-48d0-b202-26fc0cf54f9c",
   "metadata": {},
   "outputs": [
    {
     "data": {
      "text/plain": [
       "(379, 500)"
      ]
     },
     "execution_count": 53,
     "metadata": {},
     "output_type": "execute_result"
    }
   ],
   "source": [
    "mask1.shape"
   ]
  },
  {
   "cell_type": "code",
   "execution_count": 16,
   "id": "9eaf27db-e782-4f74-9cfc-fbf17f292e07",
   "metadata": {},
   "outputs": [],
   "source": [
    "def show(img):\n",
    "    if img.ndim == 2:\n",
    "        plt.imshow(img, cmap='gray')\n",
    "    else:\n",
    "        plt.imshow(cv2.cvtColor(img, cv2.COLOR_BGR2RGB))\n",
    "    plt.show"
   ]
  },
  {
   "cell_type": "code",
   "execution_count": 38,
   "id": "a89c7c05-9b79-4697-b5f7-46e8fedfa08b",
   "metadata": {},
   "outputs": [],
   "source": [
    "def find_center_and_farthest(mask):\n",
    "    # Find contours\n",
    "    contours, _ = cv2.findContours(mask, cv2.RETR_EXTERNAL, cv2.CHAIN_APPROX_SIMPLE)\n",
    "    \n",
    "    if contours:\n",
    "        # Sort contours by area and get the largest (and possibly the only) contour\n",
    "        contours = sorted(contours, key=cv2.contourArea, reverse=True)\n",
    "        largest_contour = contours[0]\n",
    "        \n",
    "        # Calculate the moments of the largest contour\n",
    "        M = cv2.moments(largest_contour)\n",
    "        \n",
    "        # Calculate x, y coordinate of center\n",
    "        if M[\"m00\"] != 0:\n",
    "            cX = int(M[\"m10\"] / M[\"m00\"])\n",
    "            cY = int(M[\"m01\"] / M[\"m00\"])\n",
    "        else:\n",
    "            # This case corresponds to the situation where the contour area is 0\n",
    "            cX, cY = 0, 0\n",
    "        center_point = (cX, cY)\n",
    "\n",
    "        max_distance = -1\n",
    "        farthest_point = None\n",
    "        \n",
    "        # Go over every point in the contour to find the farthest one from the center\n",
    "        for p in largest_contour:\n",
    "            p = tuple(p[0])\n",
    "            distance = np.sqrt((p[0] - cX)**2 + (p[1] - cY)**2)\n",
    "            if distance > max_distance:\n",
    "                max_distance = distance\n",
    "                farthest_point = p  \n",
    "    else:\n",
    "        raise Exception(\"No contours in mask\")\n",
    "\n",
    "    return center_point, max_distance"
   ]
  },
  {
   "cell_type": "code",
   "execution_count": 43,
   "id": "a52ccda7-9aad-4de3-af55-b8b8e79ba68b",
   "metadata": {},
   "outputs": [
    {
     "data": {
      "text/plain": [
       "array([[0, 0, 0, ..., 0, 0, 0],\n",
       "       [0, 0, 0, ..., 0, 0, 0],\n",
       "       [0, 0, 0, ..., 0, 0, 0],\n",
       "       ...,\n",
       "       [0, 0, 0, ..., 0, 0, 0],\n",
       "       [0, 0, 0, ..., 0, 0, 0],\n",
       "       [0, 0, 0, ..., 0, 0, 0]], dtype=uint8)"
      ]
     },
     "execution_count": 43,
     "metadata": {},
     "output_type": "execute_result"
    }
   ],
   "source": [
    "p1, _ = find_center_and_farthest(mask1)\n",
    "p2, l = find_center_and_farthest(mask2)\n",
    "img1 = mask1.copy()\n",
    "img2 = mask2.copy()\n",
    "cv2.circle(img1, p1, 1, 1, thickness=1)\n",
    "cv2.circle(img2, p2, 1, 1, thickness=1)"
   ]
  },
  {
   "cell_type": "code",
   "execution_count": 44,
   "id": "b4ba316a-1e1b-4372-b29b-ce7edd4b67e4",
   "metadata": {},
   "outputs": [
    {
     "data": {
      "image/png": "[encoded data removed]",
      "text/plain": [
       "<Figure size 640x480 with 1 Axes>"
      ]
     },
     "metadata": {},
     "output_type": "display_data"
    }
   ],
   "source": [
    "show(np.hstack([img1, img2]))"
   ]
  },
  {
   "cell_type": "code",
   "execution_count": 55,
   "id": "97116974-9d54-4d00-9279-baeab17a202d",
   "metadata": {
    "scrolled": true
   },
   "outputs": [
    {
     "data": {
      "text/plain": [
       "array([[[0, 0, 0],\n",
       "        [0, 0, 0],\n",
       "        [0, 0, 0],\n",
       "        ...,\n",
       "        [0, 0, 0],\n",
       "        [0, 0, 0],\n",
       "        [0, 0, 0]],\n",
       "\n",
       "       [[0, 0, 0],\n",
       "        [0, 0, 0],\n",
       "        [0, 0, 0],\n",
       "        ...,\n",
       "        [0, 0, 0],\n",
       "        [0, 0, 0],\n",
       "        [0, 0, 0]],\n",
       "\n",
       "       [[0, 0, 0],\n",
       "        [0, 0, 0],\n",
       "        [0, 0, 0],\n",
       "        ...,\n",
       "        [0, 0, 0],\n",
       "        [0, 0, 0],\n",
       "        [0, 0, 0]],\n",
       "\n",
       "       ...,\n",
       "\n",
       "       [[0, 0, 0],\n",
       "        [0, 0, 0],\n",
       "        [0, 0, 0],\n",
       "        ...,\n",
       "        [0, 0, 0],\n",
       "        [0, 0, 0],\n",
       "        [0, 0, 0]],\n",
       "\n",
       "       [[0, 0, 0],\n",
       "        [0, 0, 0],\n",
       "        [0, 0, 0],\n",
       "        ...,\n",
       "        [0, 0, 0],\n",
       "        [0, 0, 0],\n",
       "        [0, 0, 0]],\n",
       "\n",
       "       [[0, 0, 0],\n",
       "        [0, 0, 0],\n",
       "        [0, 0, 0],\n",
       "        ...,\n",
       "        [0, 0, 0],\n",
       "        [0, 0, 0],\n",
       "        [0, 0, 0]]], dtype=uint8)"
      ]
     },
     "execution_count": 55,
     "metadata": {},
     "output_type": "execute_result"
    }
   ],
   "source": [
    "blank = np.zeros((512, 512, 3), dtype=np.uint8)\n",
    "arrow_color = (255, 0, 0) # BGR for blue\n",
    "# Calculate the direction vector (dx, dy) from p1 to p2\n",
    "dx, dy = p2[0] - p1[0], p2[1] - p1[1]\n",
    "# Calculate the magnitude of the direction vector\n",
    "mag = np.sqrt(dx**2 + dy**2)\n",
    "if mag != 0:\n",
    "    dx, dy = dx / mag, dy / mag\n",
    "# Extend p2 by the desired distance in the direction of the vector\n",
    "p2_extended = (int(p2[0] + dx * l), int(p2[1] + dy * l))\n",
    "cv2.arrowedLine(blank, p1, p2_extended, arrow_color, thickness=1, line_type=16, shift=0, tipLength=0.05)"
   ]
  },
  {
   "cell_type": "code",
   "execution_count": 52,
   "id": "beb4082b-78cf-4b15-9440-a83b9fa853e4",
   "metadata": {},
   "outputs": [
    {
     "data": {
      "image/png": "[encoded data removed]",
      "text/plain": [
       "<Figure size 640x480 with 1 Axes>"
      ]
     },
     "metadata": {},
     "output_type": "display_data"
    }
   ],
   "source": [
    "show(blank)"
   ]
  },
  {
   "cell_type": "code",
   "execution_count": null,
   "id": "679b529c-280e-45a7-94e3-c2f0b1332ffa",
   "metadata": {},
   "outputs": [],
   "source": []
  }
 ],
 "metadata": {
  "kernelspec": {
   "display_name": "Python [conda env:cartridge] *",
   "language": "python",
   "name": "conda-env-cartridge-py"
  },
  "language_info": {
   "codemirror_mode": {
    "name": "ipython",
    "version": 3
   },
   "file_extension": ".py",
   "mimetype": "text/x-python",
   "name": "python",
   "nbconvert_exporter": "python",
   "pygments_lexer": "ipython3",
   "version": "3.8.18"
  }
 },
 "nbformat": 4,
 "nbformat_minor": 5
}
